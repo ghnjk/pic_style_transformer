{
 "cells": [
  {
   "cell_type": "markdown",
   "id": "3b12928a",
   "metadata": {},
   "source": [
    "# 定义模型"
   ]
  },
  {
   "cell_type": "code",
   "execution_count": 83,
   "id": "72671f88",
   "metadata": {},
   "outputs": [
    {
     "name": "stdout",
     "output_type": "stream",
     "text": [
      "tf.Tensor(20.0, shape=(), dtype=float32)\n"
     ]
    }
   ],
   "source": [
    "import tensorflow as tf\n",
    "class Model(object):\n",
    "    def __init__(self):\n",
    "        # 初始化变量\n",
    "        self.W = tf.Variable(5.0)\n",
    "        self.b = tf.Variable(0.0)\n",
    "\n",
    "    def __call__(self, x):\n",
    "        return self.W * x * x + self.b\n",
    " \n",
    "# 测试\n",
    "model = Model()\n",
    "\n",
    "print(model(2))"
   ]
  },
  {
   "cell_type": "markdown",
   "id": "9623a010",
   "metadata": {},
   "source": [
    "# 定义损失函数"
   ]
  },
  {
   "cell_type": "code",
   "execution_count": 5,
   "id": "d86a2631",
   "metadata": {},
   "outputs": [],
   "source": [
    "def loss(predicted_y, true_y):\n",
    "    return tf.reduce_mean(tf.square(predicted_y - true_y))"
   ]
  },
  {
   "cell_type": "markdown",
   "id": "2ed873be",
   "metadata": {},
   "source": [
    "# 生成训练集"
   ]
  },
  {
   "cell_type": "code",
   "execution_count": 49,
   "id": "53db4807",
   "metadata": {},
   "outputs": [
    {
     "data": {
      "image/png": "[encoded data removed]",
      "text/plain": [
       "<Figure size 640x480 with 1 Axes>"
      ]
     },
     "metadata": {},
     "output_type": "display_data"
    },
    {
     "name": "stdout",
     "output_type": "stream",
     "text": [
      "Init Loss:\n",
      "tf.Tensor(25.6886, shape=(), dtype=float32)\n"
     ]
    }
   ],
   "source": [
    "TRUE_W = 9.0\n",
    "TRUE_b = 2.0\n",
    "num = 1000\n",
    "\n",
    "# 随机输入\n",
    "inputs = tf.random.normal(shape=[num])\n",
    "# 随机噪音\n",
    "noise = tf.random.normal(shape=[num], mean=0, stddev=5.0)\n",
    "\n",
    "# 构造数据\n",
    "outputs = TRUE_W * inputs * inputs + TRUE_b + noise\n",
    "\n",
    "import matplotlib.pyplot as plt\n",
    "\n",
    "plt.scatter(inputs, outputs, c='b')\n",
    "plt.scatter(inputs, model(inputs), c='r')\n",
    "plt.show()\n",
    "\n",
    "# 当前loss\n",
    "print('Init Loss:')\n",
    "print(loss(model(inputs), outputs))"
   ]
  },
  {
   "cell_type": "markdown",
   "id": "c0fea9a2",
   "metadata": {},
   "source": [
    "# 定义训练函数"
   ]
  },
  {
   "cell_type": "code",
   "execution_count": 72,
   "id": "5fcbd6c5",
   "metadata": {},
   "outputs": [],
   "source": [
    "import numpy as np\n",
    "def train(model, inputs, outputs, learning_rate, batch_size=16):\n",
    "    input_len = len(inputs)\n",
    "    idx_list = np.arange(input_len)\n",
    "    np.random.shuffle(idx_list)\n",
    "    start = 0\n",
    "    while start < input_len:\n",
    "        end = min(start + batch_size, input_len)\n",
    "        sub_epoch_idx = idx_list[start: end]\n",
    "        start = end\n",
    "        sub_inputs = tf.gather(inputs, sub_epoch_idx)\n",
    "        sub_outputs = tf.gather(outputs, sub_epoch_idx)\n",
    "        # 记录loss计算过程\n",
    "        with tf.GradientTape() as t:\n",
    "            sub_loss = loss(model(sub_inputs), sub_outputs)\n",
    "            # 对W，b求导\n",
    "            dW, db = t.gradient(sub_loss, [model.W, model.b])\n",
    "            # 减去梯度×学习率\n",
    "            model.W.assign_sub(dW*learning_rate)\n",
    "            model.b.assign_sub(db*learning_rate)        "
   ]
  },
  {
   "cell_type": "markdown",
   "id": "7b4bab97",
   "metadata": {},
   "source": [
    "# 训练模型"
   ]
  },
  {
   "cell_type": "markdown",
   "id": "6c4c76d5",
   "metadata": {},
   "source": [
    "\n",
    "epoch_count = 128\n",
    "# 收集W，b画图\n",
    "Ws, bs = [], []\n",
    "for epoch in range(epoch_count):\n",
    "    Ws.append(model.W.numpy())\n",
    "    bs.append(model.b.numpy())\n",
    "    # 计算loss\n",
    "    current_loss = loss(model(inputs), outputs)\n",
    "    train(model, inputs, outputs, learning_rate=0.01, batch_size=1024)\n",
    "    print('Epoch %2d: W=%1.2f b=%1.2f, loss=%2.5f' %\n",
    "        (epoch, Ws[-1], bs[-1], current_loss))\n",
    "# 画图\n",
    "# Let's plot it all\n",
    "epochs = range(epoch_count)\n",
    "plt.figure()\n",
    "plt.plot(epochs, Ws, 'r',\n",
    "         epochs, bs, 'b')\n",
    "plt.plot([TRUE_W] * len(epochs), 'r--',\n",
    "         [TRUE_b] * len(epochs), 'b--')\n",
    "plt.legend(['W', 'b', 'true W', 'true_b'])\n",
    "plt.figure()\n",
    "plt.scatter(inputs, outputs, c='b')\n",
    "plt.scatter(inputs, model(inputs), c='r')\n",
    "plt.show()\n"
   ]
  }
 ],
 "metadata": {
  "kernelspec": {
   "display_name": "Python 3 (ipykernel)",
   "language": "python",
   "name": "python3"
  },
  "language_info": {
   "codemirror_mode": {
    "name": "ipython",
    "version": 3
   },
   "file_extension": ".py",
   "mimetype": "text/x-python",
   "name": "python",
   "nbconvert_exporter": "python",
   "pygments_lexer": "ipython3",
   "version": "3.10.8"
  }
 },
 "nbformat": 4,
 "nbformat_minor": 5
}
